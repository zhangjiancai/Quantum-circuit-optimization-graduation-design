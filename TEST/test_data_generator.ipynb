{
 "cells": [
  {
   "cell_type": "code",
   "execution_count": 1,
   "metadata": {},
   "outputs": [],
   "source": [
    "# \\data_generator.py\n",
    "\n",
    "import numpy as np\n",
    "import torch\n",
    "\n",
    "class DataGenerator:\n",
    "    def __init__(self, env, params):\n",
    "        self.env = env\n",
    "        self.params = params\n",
    "\n",
    "    def generate_data(self, batch_size):\n",
    "        inputs, targets = [], []\n",
    "        for _ in range(batch_size):\n",
    "            state = self.env.reset()\n",
    "            action = self.env.sample_action()\n",
    "            next_state, reward, done = self.env.step(action)\n",
    "\n",
    "            # 确保目标维度与网络输出一致\n",
    "            targets.append([reward, done, 0, 0])\n",
    "            inputs.append(state)\n",
    "\n",
    "        return torch.tensor(inputs, dtype=torch.float32), torch.tensor(targets, dtype=torch.float32)"
   ]
  },
  {
   "cell_type": "code",
   "execution_count": 2,
   "metadata": {},
   "outputs": [
    {
     "name": "stdout",
     "output_type": "stream",
     "text": [
      "torch.Size([1, 4])\n"
     ]
    }
   ],
   "source": [
    "import torch.nn as nn\n",
    "\n",
    "class SimpleNetwork(nn.Module):\n",
    "    def __init__(self):\n",
    "        super(SimpleNetwork, self).__init__()\n",
    "        self.fc = nn.Linear(4, 4)  # 假设输入和输出维度均为 4\n",
    "\n",
    "    def forward(self, x):\n",
    "        return self.fc(x)\n",
    "\n",
    "# 测试模型\n",
    "model = SimpleNetwork()\n",
    "input_tensor = torch.rand((1, 4))  # 假设输入维度是 [1, 4]\n",
    "output = model(input_tensor)\n",
    "print(output.shape)  # 输出维度应当是 [1, 4]"
   ]
  }
 ],
 "metadata": {
  "kernelspec": {
   "display_name": "Python 3",
   "language": "python",
   "name": "python3"
  },
  "language_info": {
   "codemirror_mode": {
    "name": "ipython",
    "version": 3
   },
   "file_extension": ".py",
   "mimetype": "text/x-python",
   "name": "python",
   "nbconvert_exporter": "python",
   "pygments_lexer": "ipython3",
   "version": "3.11.9"
  }
 },
 "nbformat": 4,
 "nbformat_minor": 2
}
