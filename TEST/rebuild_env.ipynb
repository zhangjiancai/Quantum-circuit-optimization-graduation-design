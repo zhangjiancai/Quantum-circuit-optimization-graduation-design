{
 "cells": [
  {
   "cell_type": "code",
   "execution_count": 1,
   "metadata": {},
   "outputs": [
    {
     "name": "stdout",
     "output_type": "stream",
     "text": [
      "(0, 0): ───Rz(0.25π)───Ry(0.25π)───────────────\n",
      "\n",
      "(0, 1): ───Rz(0.25π)───────────────────────────\n",
      "\n",
      "(0, 2): ───Rx(0.25π)───Ry(0.25π)───Rz(0.25π)───\n",
      "\n",
      "(0, 3): ───Rz(0.25π)───Rz(0.25π)───────────────\n"
     ]
    }
   ],
   "source": [
    "import cirq\n",
    "import numpy as np\n",
    "\n",
    "def create_quantum_circuit(quantum_circuit_data):\n",
    "    \"\"\"\n",
    "    根据四维数组构建并运行量子电路。\n",
    "    \n",
    "    参数:\n",
    "    quantum_circuit_data - 四维数组, 形状为(num_qubits, num_gate_types, num_timesteps, 2)\n",
    "                           最后一个维度的 [1] 用于表示该位置是否激活门。\n",
    "    \n",
    "    返回:\n",
    "    circuit - Cirq 的量子电路对象\n",
    "    \"\"\"\n",
    "    num_qubits, num_gate_types, num_timesteps, _ = quantum_circuit_data.shape\n",
    "    \n",
    "    # 创建量子比特\n",
    "    qubits = [cirq.GridQubit(0, i) for i in range(num_qubits)]\n",
    "    \n",
    "    # 创建量子电路\n",
    "    circuit = cirq.Circuit()\n",
    "    \n",
    "    for time in range(num_timesteps):\n",
    "        for qubit in range(num_qubits):\n",
    "            for gate_type in range(num_gate_types):\n",
    "                # 检查该位置的门是否激活\n",
    "                if quantum_circuit_data[qubit, gate_type, time, 1] == 1:\n",
    "                    # 根据门的类型添加相应的量子门\n",
    "                    if gate_type == 0:\n",
    "                        circuit.append(cirq.rx(np.pi/4)(qubits[qubit]))\n",
    "                    elif gate_type == 1:\n",
    "                        circuit.append(cirq.ry(np.pi/4)(qubits[qubit]))\n",
    "                    elif gate_type == 2:\n",
    "                        circuit.append(cirq.rz(np.pi/4)(qubits[qubit]))\n",
    "    \n",
    "    return circuit\n",
    "\n",
    "# 示例用法\n",
    "num_qubits = 4\n",
    "num_gate_types = 3\n",
    "num_timesteps = 5\n",
    "quantum_circuit_data = np.zeros((num_qubits, num_gate_types, num_timesteps, 2))\n",
    "\n",
    "# 模拟激活一些量子门\n",
    "np.random.seed(42)\n",
    "activation_probability = 0.1\n",
    "for qubit in range(num_qubits):\n",
    "    for gate_type in range(num_gate_types):\n",
    "        for time in range(num_timesteps):\n",
    "            if np.random.random() < activation_probability:\n",
    "                quantum_circuit_data[qubit, gate_type, time, 1] = 1\n",
    "\n",
    "quantum_circuit_data[:, :, :, 0] = 1 - quantum_circuit_data[:, :, :, 1]\n",
    "\n",
    "# 构建电路\n",
    "circuit = create_quantum_circuit(quantum_circuit_data)\n",
    "print(circuit)\n"
   ]
  }
 ],
 "metadata": {
  "kernelspec": {
   "display_name": "Python 3",
   "language": "python",
   "name": "python3"
  },
  "language_info": {
   "codemirror_mode": {
    "name": "ipython",
    "version": 3
   },
   "file_extension": ".py",
   "mimetype": "text/x-python",
   "name": "python",
   "nbconvert_exporter": "python",
   "pygments_lexer": "ipython3",
   "version": "3.11.9"
  }
 },
 "nbformat": 4,
 "nbformat_minor": 2
}
