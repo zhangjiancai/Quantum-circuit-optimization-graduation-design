{
 "cells": [
  {
   "cell_type": "code",
   "execution_count": 1,
   "metadata": {},
   "outputs": [
    {
     "name": "stdout",
     "output_type": "stream",
     "text": [
      "States shape: torch.Size([2, 4, 5, 15])\n",
      "Actions shape: torch.Size([3])\n",
      "Rewards shape: torch.Size([])\n",
      "Dones shape: torch.Size([])\n",
      "Old Log Probs shape: torch.Size([])\n",
      "Values shape: torch.Size([])\n"
     ]
    }
   ],
   "source": [
    "import torch\n",
    "\n",
    "# 假设这些张量已经被定义并且具有您描述的形状\n",
    "states = torch.randn(18, 2, 4, 5, 15)\n",
    "actions = torch.randn(18, 3)\n",
    "rewards = torch.randn(18)\n",
    "dones = torch.randn(18)\n",
    "old_log_probs = torch.randn(18)\n",
    "values = torch.randn(18)\n",
    "\n",
    "# 选择第一个数据点\n",
    "states = states[0]          # 新形状将是 [2, 4, 5, 15]\n",
    "actions = actions[0]        # 新形状将是 [3]\n",
    "rewards = rewards[0]        # 新形状将是 []\n",
    "dones = dones[0]            # 新形状将是 []\n",
    "old_log_probs = old_log_probs[0]  # 新形状将是 []\n",
    "values = values[0]          # 新形状将是 []\n",
    "\n",
    "# 打印新的形状来验证\n",
    "print(\"States shape:\", states.shape)\n",
    "print(\"Actions shape:\", actions.shape)\n",
    "print(\"Rewards shape:\", rewards.shape)\n",
    "print(\"Dones shape:\", dones.shape)\n",
    "print(\"Old Log Probs shape:\", old_log_probs.shape)\n",
    "print(\"Values shape:\", values.shape)\n"
   ]
  }
 ],
 "metadata": {
  "kernelspec": {
   "display_name": "Python 3",
   "language": "python",
   "name": "python3"
  },
  "language_info": {
   "codemirror_mode": {
    "name": "ipython",
    "version": 3
   },
   "file_extension": ".py",
   "mimetype": "text/x-python",
   "name": "python",
   "nbconvert_exporter": "python",
   "pygments_lexer": "ipython3",
   "version": "3.11.9"
  }
 },
 "nbformat": 4,
 "nbformat_minor": 2
}
