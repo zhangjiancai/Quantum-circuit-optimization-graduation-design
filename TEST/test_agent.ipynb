{
 "cells": [
  {
   "cell_type": "code",
   "execution_count": 1,
   "metadata": {},
   "outputs": [],
   "source": [
    "# agent.py\n",
    "import torch\n",
    "import torch.nn as nn\n",
    "import torch.nn.functional as F\n",
    "\n",
    "class CircuitOptimizerAgent(nn.Module):\n",
    "    \"\"\"深度卷积强化学习代理模型，用于量子电路优化。\"\"\"\n",
    "    def __init__(self, n_qubits, n_moments, n_gate_classes, n_rules):\n",
    "        \"\"\"\n",
    "        初始化深度卷积强化学习代理模型。\n",
    "\n",
    "        参数：\n",
    "            n_qubits (int): 量子比特数目。\n",
    "            n_moments (int): 时间步数。\n",
    "            n_gate_classes (int): 门类型数量。\n",
    "            n_rules (int): 规则数量。\n",
    "        \"\"\"\n",
    "        super(CircuitOptimizerAgent, self).__init__()\n",
    "        self.n_qubits = n_qubits\n",
    "        self.n_moments = n_moments\n",
    "        self.n_rules = n_rules  # 将 n_rules 作为属性存储\n",
    "\n",
    "        # 卷积层\n",
    "        self.conv1 = nn.Conv2d(n_gate_classes, 64, kernel_size=3, padding=1)\n",
    "        self.conv2 = nn.Conv2d(64, 128, kernel_size=3, padding=1)\n",
    "        self.conv3 = nn.Conv2d(128, 128, kernel_size=3, padding=1)\n",
    "        self.conv4 = nn.Conv2d(128, 256, kernel_size=3, padding=1)\n",
    "\n",
    "        # 计算展平后的特征大小\n",
    "        def conv_output_size(size, kernel_size=3, stride=1, padding=1):\n",
    "            return ((size - kernel_size + 2 * padding) // stride) + 1\n",
    "\n",
    "        qubits_out = conv_output_size(conv_output_size(conv_output_size(conv_output_size(self.n_qubits))))\n",
    "        moments_out = conv_output_size(conv_output_size(conv_output_size(conv_output_size(self.n_moments))))\n",
    "\n",
    "        flattened_size = 256 * qubits_out * moments_out\n",
    "\n",
    "        # 策略网络的全连接层\n",
    "        self.policy_linear = nn.Linear(flattened_size, n_rules * n_qubits * n_moments)\n",
    "\n",
    "        # 价值网络的全连接层\n",
    "        self.value_linear = nn.Linear(flattened_size, 1)\n",
    "\n",
    "    def forward(self, x):\n",
    "        \"\"\"前向传播。\"\"\"\n",
    "        self.bn = nn.BatchNorm2d(256)  # 根据最后一个卷积层的输出通道数\n",
    "\n",
    "        x = F.relu(self.conv1(x))\n",
    "        x = F.relu(self.conv2(x))\n",
    "        x = F.relu(self.conv3(x))\n",
    "        x = F.relu(self.conv4(x))\n",
    "        #卷积网络的输出通过全连接层后可能存在数值稳定性问题，尤其是在使用 softmax 之前。考虑在全连接层之前添加批归一化层（Batch Normalization）来增强模型的数值稳定性和收敛速度。\n",
    "        x = self.bn(x)  # 在ReLU和Flatten之间添加批归一化\n",
    "\n",
    "        # 展平输出\n",
    "        x_flat = torch.flatten(x, start_dim=1)\n",
    "\n",
    "        # 策略网络\n",
    "        policy = self.policy_linear(x_flat)\n",
    "        policy = policy.view(-1, self.n_rules, self.n_qubits * self.n_moments)  # 修正此处的维度\n",
    "        policy = F.softmax(policy, dim=-1)\n",
    "\n",
    "        # 价值网络\n",
    "        value = self.value_linear(x_flat)\n",
    "\n",
    "        return policy, value\n"
   ]
  },
  {
   "cell_type": "code",
   "execution_count": 2,
   "metadata": {},
   "outputs": [
    {
     "name": "stdout",
     "output_type": "stream",
     "text": [
      "Policy output shape: torch.Size([8, 4, 50])\n",
      "Value output shape: torch.Size([8, 1])\n"
     ]
    }
   ],
   "source": [
    "# test_agent.py\n",
    "\n",
    "# 定义模型的参数\n",
    "n_qubits = 5\n",
    "n_moments = 10\n",
    "n_gate_classes = 3\n",
    "n_rules = 4\n",
    "\n",
    "# 创建代理模型\n",
    "agent = CircuitOptimizerAgent(n_qubits, n_moments, n_gate_classes, n_rules)\n",
    "\n",
    "# 模拟输入数据\n",
    "batch_size = 8\n",
    "input_tensor = torch.randn(batch_size, n_gate_classes, n_qubits, n_moments)\n",
    "\n",
    "# 执行前向传播，获取策略和价值输出\n",
    "policy, value = agent(input_tensor)\n",
    "\n",
    "# 打印输出的维度\n",
    "print(\"Policy output shape:\", policy.shape)  # 应输出 [batch_size, n_rules, n_qubits * n_moments]\n",
    "print(\"Value output shape:\", value.shape)    # 应输出 [batch_size, 1]\n"
   ]
  }
 ],
 "metadata": {
  "kernelspec": {
   "display_name": "Python 3",
   "language": "python",
   "name": "python3"
  },
  "language_info": {
   "codemirror_mode": {
    "name": "ipython",
    "version": 3
   },
   "file_extension": ".py",
   "mimetype": "text/x-python",
   "name": "python",
   "nbconvert_exporter": "python",
   "pygments_lexer": "ipython3",
   "version": "3.11.9"
  }
 },
 "nbformat": 4,
 "nbformat_minor": 2
}
